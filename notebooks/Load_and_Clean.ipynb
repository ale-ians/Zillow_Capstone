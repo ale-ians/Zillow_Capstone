{
 "cells": [
  {
   "cell_type": "code",
   "execution_count": 1,
   "id": "initial_id",
   "metadata": {
    "collapsed": true,
    "ExecuteTime": {
     "end_time": "2025-06-27T22:06:15.324038Z",
     "start_time": "2025-06-27T22:06:01.342434Z"
    }
   },
   "outputs": [],
   "source": [
    "import pandas as pd"
   ]
  },
  {
   "cell_type": "code",
   "outputs": [],
   "source": [
    "raw_path = \"../data/Zip_zhvi_uc_sfr_tier_0.33_0.67_sm_sa_month.csv\"\n",
    "df = pd.read_csv(raw_path)"
   ],
   "metadata": {
    "collapsed": false,
    "ExecuteTime": {
     "end_time": "2025-06-27T22:09:04.494599Z",
     "start_time": "2025-06-27T22:09:03.580994Z"
    }
   },
   "id": "c4098eb6002e0ee5",
   "execution_count": 3
  },
  {
   "cell_type": "code",
   "outputs": [
    {
     "name": "stdout",
     "output_type": "stream",
     "text": [
      "(26208, 314)\n"
     ]
    }
   ],
   "source": [
    "print(df.shape)"
   ],
   "metadata": {
    "collapsed": false,
    "ExecuteTime": {
     "end_time": "2025-06-27T22:09:18.667578Z",
     "start_time": "2025-06-27T22:09:18.664601Z"
    }
   },
   "id": "6a73de1abcf39593",
   "execution_count": 4
  },
  {
   "cell_type": "code",
   "outputs": [
    {
     "data": {
      "text/plain": "   RegionID  SizeRank  RegionName RegionType StateName State      City  \\\n0     91982         1       77494        zip        TX    TX      Katy   \n1     61148         2        8701        zip        NJ    NJ  Lakewood   \n2     91940         3       77449        zip        TX    TX      Katy   \n3     62080         4       11368        zip        NY    NY  New York   \n4     91733         5       77084        zip        TX    TX   Houston   \n\n                                   Metro        CountyName     2000-01-31  \\\n0   Houston-The Woodlands-Sugar Land, TX  Fort Bend County  215574.438255   \n1  New York-Newark-Jersey City, NY-NJ-PA      Ocean County  148477.755194   \n2   Houston-The Woodlands-Sugar Land, TX     Harris County  106161.586055   \n3  New York-Newark-Jersey City, NY-NJ-PA     Queens County  324297.207309   \n4   Houston-The Woodlands-Sugar Land, TX     Harris County  105388.243306   \n\n   ...     2024-08-31     2024-09-30     2024-10-31     2024-11-30  \\\n0  ...  510182.434440  510892.763641  512049.650147  512792.660486   \n1  ...  695796.402981  702604.063025  709293.474456  714159.727665   \n2  ...  288461.727101  288271.118755  287847.183593  287044.229109   \n3  ...  964100.578626  966858.639801  969170.155864  970457.410038   \n4  ...  282674.177502  282423.296576  281911.642124  281303.549642   \n\n      2024-12-31     2025-01-31     2025-02-28     2025-03-31     2025-04-30  \\\n0  513227.722201  513665.946230  513338.383882  512408.507833  510568.598127   \n1  716847.338283  717878.902186  720826.783733  724843.289367  729957.745787   \n2  286301.877814  285680.843518  285044.264672  284194.128893  283214.282228   \n3  970540.504388  969886.051550  970434.250479  970851.001272  974994.605890   \n4  280961.447460  280719.060835  280312.404076  279436.475212  278371.471330   \n\n      2025-05-31  \n0  508318.844450  \n1  734632.468660  \n2  282393.931681  \n3  981018.751871  \n4  277455.350725  \n\n[5 rows x 314 columns]",
      "text/html": "<div>\n<style scoped>\n    .dataframe tbody tr th:only-of-type {\n        vertical-align: middle;\n    }\n\n    .dataframe tbody tr th {\n        vertical-align: top;\n    }\n\n    .dataframe thead th {\n        text-align: right;\n    }\n</style>\n<table border=\"1\" class=\"dataframe\">\n  <thead>\n    <tr style=\"text-align: right;\">\n      <th></th>\n      <th>RegionID</th>\n      <th>SizeRank</th>\n      <th>RegionName</th>\n      <th>RegionType</th>\n      <th>StateName</th>\n      <th>State</th>\n      <th>City</th>\n      <th>Metro</th>\n      <th>CountyName</th>\n      <th>2000-01-31</th>\n      <th>...</th>\n      <th>2024-08-31</th>\n      <th>2024-09-30</th>\n      <th>2024-10-31</th>\n      <th>2024-11-30</th>\n      <th>2024-12-31</th>\n      <th>2025-01-31</th>\n      <th>2025-02-28</th>\n      <th>2025-03-31</th>\n      <th>2025-04-30</th>\n      <th>2025-05-31</th>\n    </tr>\n  </thead>\n  <tbody>\n    <tr>\n      <th>0</th>\n      <td>91982</td>\n      <td>1</td>\n      <td>77494</td>\n      <td>zip</td>\n      <td>TX</td>\n      <td>TX</td>\n      <td>Katy</td>\n      <td>Houston-The Woodlands-Sugar Land, TX</td>\n      <td>Fort Bend County</td>\n      <td>215574.438255</td>\n      <td>...</td>\n      <td>510182.434440</td>\n      <td>510892.763641</td>\n      <td>512049.650147</td>\n      <td>512792.660486</td>\n      <td>513227.722201</td>\n      <td>513665.946230</td>\n      <td>513338.383882</td>\n      <td>512408.507833</td>\n      <td>510568.598127</td>\n      <td>508318.844450</td>\n    </tr>\n    <tr>\n      <th>1</th>\n      <td>61148</td>\n      <td>2</td>\n      <td>8701</td>\n      <td>zip</td>\n      <td>NJ</td>\n      <td>NJ</td>\n      <td>Lakewood</td>\n      <td>New York-Newark-Jersey City, NY-NJ-PA</td>\n      <td>Ocean County</td>\n      <td>148477.755194</td>\n      <td>...</td>\n      <td>695796.402981</td>\n      <td>702604.063025</td>\n      <td>709293.474456</td>\n      <td>714159.727665</td>\n      <td>716847.338283</td>\n      <td>717878.902186</td>\n      <td>720826.783733</td>\n      <td>724843.289367</td>\n      <td>729957.745787</td>\n      <td>734632.468660</td>\n    </tr>\n    <tr>\n      <th>2</th>\n      <td>91940</td>\n      <td>3</td>\n      <td>77449</td>\n      <td>zip</td>\n      <td>TX</td>\n      <td>TX</td>\n      <td>Katy</td>\n      <td>Houston-The Woodlands-Sugar Land, TX</td>\n      <td>Harris County</td>\n      <td>106161.586055</td>\n      <td>...</td>\n      <td>288461.727101</td>\n      <td>288271.118755</td>\n      <td>287847.183593</td>\n      <td>287044.229109</td>\n      <td>286301.877814</td>\n      <td>285680.843518</td>\n      <td>285044.264672</td>\n      <td>284194.128893</td>\n      <td>283214.282228</td>\n      <td>282393.931681</td>\n    </tr>\n    <tr>\n      <th>3</th>\n      <td>62080</td>\n      <td>4</td>\n      <td>11368</td>\n      <td>zip</td>\n      <td>NY</td>\n      <td>NY</td>\n      <td>New York</td>\n      <td>New York-Newark-Jersey City, NY-NJ-PA</td>\n      <td>Queens County</td>\n      <td>324297.207309</td>\n      <td>...</td>\n      <td>964100.578626</td>\n      <td>966858.639801</td>\n      <td>969170.155864</td>\n      <td>970457.410038</td>\n      <td>970540.504388</td>\n      <td>969886.051550</td>\n      <td>970434.250479</td>\n      <td>970851.001272</td>\n      <td>974994.605890</td>\n      <td>981018.751871</td>\n    </tr>\n    <tr>\n      <th>4</th>\n      <td>91733</td>\n      <td>5</td>\n      <td>77084</td>\n      <td>zip</td>\n      <td>TX</td>\n      <td>TX</td>\n      <td>Houston</td>\n      <td>Houston-The Woodlands-Sugar Land, TX</td>\n      <td>Harris County</td>\n      <td>105388.243306</td>\n      <td>...</td>\n      <td>282674.177502</td>\n      <td>282423.296576</td>\n      <td>281911.642124</td>\n      <td>281303.549642</td>\n      <td>280961.447460</td>\n      <td>280719.060835</td>\n      <td>280312.404076</td>\n      <td>279436.475212</td>\n      <td>278371.471330</td>\n      <td>277455.350725</td>\n    </tr>\n  </tbody>\n</table>\n<p>5 rows × 314 columns</p>\n</div>"
     },
     "execution_count": 5,
     "metadata": {},
     "output_type": "execute_result"
    }
   ],
   "source": [
    "df.head()"
   ],
   "metadata": {
    "collapsed": false,
    "ExecuteTime": {
     "end_time": "2025-06-27T22:10:00.944481Z",
     "start_time": "2025-06-27T22:10:00.928130Z"
    }
   },
   "id": "84254fac2dd83975",
   "execution_count": 5
  },
  {
   "cell_type": "code",
   "outputs": [],
   "source": [
    "id_vars = ['RegionID', 'RegionName', 'SizeRank', 'RegionType', 'StateName']\n",
    "date_columns = df.columns.difference(id_vars)\n",
    "#Melt to long format\n",
    "df_melted = df.melt(id_vars, value_vars = date_columns,var_name='date', value_name='value')\n",
    "#Convert to datetime\n",
    "df_melted['date'] = pd.to_datetime(df_melted['date'], format='%Y-%m', errors='coerce')\n",
    "#drop rows with missing strings/values\n",
    "df_melted.dropna(subset=['date', 'value'], inplace=True)"
   ],
   "metadata": {
    "collapsed": false,
    "ExecuteTime": {
     "end_time": "2025-06-27T22:14:09.716158Z",
     "start_time": "2025-06-27T22:14:07.588602Z"
    }
   },
   "id": "d08e0fe4300b0e51",
   "execution_count": 6
  },
  {
   "cell_type": "code",
   "outputs": [],
   "source": [
    "#Filter Colorado Zip by prefix (80000-81658)\n",
    "df_melted['RegionName'] = df_melted['RegionName'].astype(str)\n",
    "\n",
    "df_co = df_melted['RegionName'].str.match(f'^80[0-9]{3}|^81[0-5][0-9]|^816[0-5]')"
   ],
   "metadata": {
    "collapsed": false,
    "ExecuteTime": {
     "end_time": "2025-06-27T22:17:07.084910Z",
     "start_time": "2025-06-27T22:17:07.081409Z"
    }
   },
   "id": "460bafec35834647",
   "execution_count": 7
  },
  {
   "cell_type": "code",
   "outputs": [],
   "source": [
    "import os\n",
    "os.makedirs('../data', exist_ok=True)\n",
    "df_co.to_csv('../data/colorado_home_values.csv', index=False)"
   ],
   "metadata": {
    "collapsed": false,
    "ExecuteTime": {
     "end_time": "2025-06-27T22:18:25.996321Z",
     "start_time": "2025-06-27T22:18:25.992660Z"
    }
   },
   "id": "362027d43035dfc6",
   "execution_count": 8
  },
  {
   "cell_type": "code",
   "outputs": [],
   "source": [],
   "metadata": {
    "collapsed": false
   },
   "id": "bafb7aa58b927a60"
  }
 ],
 "metadata": {
  "kernelspec": {
   "display_name": "Python 3",
   "language": "python",
   "name": "python3"
  },
  "language_info": {
   "codemirror_mode": {
    "name": "ipython",
    "version": 2
   },
   "file_extension": ".py",
   "mimetype": "text/x-python",
   "name": "python",
   "nbconvert_exporter": "python",
   "pygments_lexer": "ipython2",
   "version": "2.7.6"
  }
 },
 "nbformat": 4,
 "nbformat_minor": 5
}
